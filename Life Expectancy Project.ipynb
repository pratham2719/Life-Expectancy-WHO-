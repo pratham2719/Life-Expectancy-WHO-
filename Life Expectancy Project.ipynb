{
 "cells": [
  {
   "cell_type": "markdown",
   "id": "11c6bf89",
   "metadata": {},
   "source": [
    "# <h1><center><u>Case study on Life Expectancy (WHO)"
   ]
  },
  {
   "cell_type": "code",
   "execution_count": 1,
   "id": "91839895",
   "metadata": {},
   "outputs": [],
   "source": [
    "##import all libraries\n",
    "import pandas as pd\n",
    "import numpy as np\n",
    "import matplotlib.pyplot as plt\n",
    "import seaborn as sns\n",
    "import warnings\n",
    "warnings.filterwarnings(\"ignore\")"
   ]
  },
  {
   "cell_type": "code",
   "execution_count": 2,
   "id": "ed3452a5",
   "metadata": {},
   "outputs": [],
   "source": [
    "##read Life Expectancy Data.csv file\n",
    "df=pd.read_csv(\"Life Expectancy Data.csv\")"
   ]
  },
  {
   "cell_type": "code",
   "execution_count": 3,
   "id": "98e84841",
   "metadata": {},
   "outputs": [],
   "source": [
    "## finding first 5 rows?"
   ]
  },
  {
   "cell_type": "code",
   "execution_count": 4,
   "id": "6515e07e",
   "metadata": {
    "scrolled": true
   },
   "outputs": [
    {
     "data": {
      "text/html": [
       "<div>\n",
       "<style scoped>\n",
       "    .dataframe tbody tr th:only-of-type {\n",
       "        vertical-align: middle;\n",
       "    }\n",
       "\n",
       "    .dataframe tbody tr th {\n",
       "        vertical-align: top;\n",
       "    }\n",
       "\n",
       "    .dataframe thead th {\n",
       "        text-align: right;\n",
       "    }\n",
       "</style>\n",
       "<table border=\"1\" class=\"dataframe\">\n",
       "  <thead>\n",
       "    <tr style=\"text-align: right;\">\n",
       "      <th></th>\n",
       "      <th>Country</th>\n",
       "      <th>Year</th>\n",
       "      <th>Status</th>\n",
       "      <th>Life expectancy</th>\n",
       "      <th>Adult Mortality</th>\n",
       "      <th>infant deaths</th>\n",
       "      <th>Alcohol</th>\n",
       "      <th>percentage expenditure</th>\n",
       "      <th>Hepatitis B</th>\n",
       "      <th>Measles</th>\n",
       "      <th>...</th>\n",
       "      <th>Polio</th>\n",
       "      <th>Total expenditure</th>\n",
       "      <th>Diphtheria</th>\n",
       "      <th>HIV/AIDS</th>\n",
       "      <th>GDP</th>\n",
       "      <th>Population</th>\n",
       "      <th>thinness  1-19 years</th>\n",
       "      <th>thinness 5-9 years</th>\n",
       "      <th>Income composition of resources</th>\n",
       "      <th>Schooling</th>\n",
       "    </tr>\n",
       "  </thead>\n",
       "  <tbody>\n",
       "    <tr>\n",
       "      <th>0</th>\n",
       "      <td>Afghanistan</td>\n",
       "      <td>2015</td>\n",
       "      <td>Developing</td>\n",
       "      <td>65.0</td>\n",
       "      <td>263.0</td>\n",
       "      <td>62</td>\n",
       "      <td>0.01</td>\n",
       "      <td>71.279624</td>\n",
       "      <td>65.0</td>\n",
       "      <td>1154</td>\n",
       "      <td>...</td>\n",
       "      <td>6.0</td>\n",
       "      <td>8.16</td>\n",
       "      <td>65.0</td>\n",
       "      <td>0.1</td>\n",
       "      <td>584.259210</td>\n",
       "      <td>33736494.0</td>\n",
       "      <td>17.2</td>\n",
       "      <td>17.3</td>\n",
       "      <td>0.479</td>\n",
       "      <td>10.1</td>\n",
       "    </tr>\n",
       "    <tr>\n",
       "      <th>1</th>\n",
       "      <td>Afghanistan</td>\n",
       "      <td>2014</td>\n",
       "      <td>Developing</td>\n",
       "      <td>59.9</td>\n",
       "      <td>271.0</td>\n",
       "      <td>64</td>\n",
       "      <td>0.01</td>\n",
       "      <td>73.523582</td>\n",
       "      <td>62.0</td>\n",
       "      <td>492</td>\n",
       "      <td>...</td>\n",
       "      <td>58.0</td>\n",
       "      <td>8.18</td>\n",
       "      <td>62.0</td>\n",
       "      <td>0.1</td>\n",
       "      <td>612.696514</td>\n",
       "      <td>327582.0</td>\n",
       "      <td>17.5</td>\n",
       "      <td>17.5</td>\n",
       "      <td>0.476</td>\n",
       "      <td>10.0</td>\n",
       "    </tr>\n",
       "    <tr>\n",
       "      <th>2</th>\n",
       "      <td>Afghanistan</td>\n",
       "      <td>2013</td>\n",
       "      <td>Developing</td>\n",
       "      <td>59.9</td>\n",
       "      <td>268.0</td>\n",
       "      <td>66</td>\n",
       "      <td>0.01</td>\n",
       "      <td>73.219243</td>\n",
       "      <td>64.0</td>\n",
       "      <td>430</td>\n",
       "      <td>...</td>\n",
       "      <td>62.0</td>\n",
       "      <td>8.13</td>\n",
       "      <td>64.0</td>\n",
       "      <td>0.1</td>\n",
       "      <td>631.744976</td>\n",
       "      <td>31731688.0</td>\n",
       "      <td>17.7</td>\n",
       "      <td>17.7</td>\n",
       "      <td>0.470</td>\n",
       "      <td>9.9</td>\n",
       "    </tr>\n",
       "    <tr>\n",
       "      <th>3</th>\n",
       "      <td>Afghanistan</td>\n",
       "      <td>2012</td>\n",
       "      <td>Developing</td>\n",
       "      <td>59.5</td>\n",
       "      <td>272.0</td>\n",
       "      <td>69</td>\n",
       "      <td>0.01</td>\n",
       "      <td>78.184215</td>\n",
       "      <td>67.0</td>\n",
       "      <td>2787</td>\n",
       "      <td>...</td>\n",
       "      <td>67.0</td>\n",
       "      <td>8.52</td>\n",
       "      <td>67.0</td>\n",
       "      <td>0.1</td>\n",
       "      <td>669.959000</td>\n",
       "      <td>3696958.0</td>\n",
       "      <td>17.9</td>\n",
       "      <td>18.0</td>\n",
       "      <td>0.463</td>\n",
       "      <td>9.8</td>\n",
       "    </tr>\n",
       "    <tr>\n",
       "      <th>4</th>\n",
       "      <td>Afghanistan</td>\n",
       "      <td>2011</td>\n",
       "      <td>Developing</td>\n",
       "      <td>59.2</td>\n",
       "      <td>275.0</td>\n",
       "      <td>71</td>\n",
       "      <td>0.01</td>\n",
       "      <td>7.097109</td>\n",
       "      <td>68.0</td>\n",
       "      <td>3013</td>\n",
       "      <td>...</td>\n",
       "      <td>68.0</td>\n",
       "      <td>7.87</td>\n",
       "      <td>68.0</td>\n",
       "      <td>0.1</td>\n",
       "      <td>63.537231</td>\n",
       "      <td>2978599.0</td>\n",
       "      <td>18.2</td>\n",
       "      <td>18.2</td>\n",
       "      <td>0.454</td>\n",
       "      <td>9.5</td>\n",
       "    </tr>\n",
       "  </tbody>\n",
       "</table>\n",
       "<p>5 rows × 22 columns</p>\n",
       "</div>"
      ],
      "text/plain": [
       "       Country  Year      Status  Life expectancy   Adult Mortality  \\\n",
       "0  Afghanistan  2015  Developing              65.0            263.0   \n",
       "1  Afghanistan  2014  Developing              59.9            271.0   \n",
       "2  Afghanistan  2013  Developing              59.9            268.0   \n",
       "3  Afghanistan  2012  Developing              59.5            272.0   \n",
       "4  Afghanistan  2011  Developing              59.2            275.0   \n",
       "\n",
       "   infant deaths  Alcohol  percentage expenditure  Hepatitis B  Measles   ...  \\\n",
       "0             62     0.01               71.279624         65.0      1154  ...   \n",
       "1             64     0.01               73.523582         62.0       492  ...   \n",
       "2             66     0.01               73.219243         64.0       430  ...   \n",
       "3             69     0.01               78.184215         67.0      2787  ...   \n",
       "4             71     0.01                7.097109         68.0      3013  ...   \n",
       "\n",
       "   Polio  Total expenditure  Diphtheria    HIV/AIDS         GDP  Population  \\\n",
       "0    6.0               8.16         65.0        0.1  584.259210  33736494.0   \n",
       "1   58.0               8.18         62.0        0.1  612.696514    327582.0   \n",
       "2   62.0               8.13         64.0        0.1  631.744976  31731688.0   \n",
       "3   67.0               8.52         67.0        0.1  669.959000   3696958.0   \n",
       "4   68.0               7.87         68.0        0.1   63.537231   2978599.0   \n",
       "\n",
       "    thinness  1-19 years   thinness 5-9 years  \\\n",
       "0                   17.2                 17.3   \n",
       "1                   17.5                 17.5   \n",
       "2                   17.7                 17.7   \n",
       "3                   17.9                 18.0   \n",
       "4                   18.2                 18.2   \n",
       "\n",
       "   Income composition of resources  Schooling  \n",
       "0                            0.479       10.1  \n",
       "1                            0.476       10.0  \n",
       "2                            0.470        9.9  \n",
       "3                            0.463        9.8  \n",
       "4                            0.454        9.5  \n",
       "\n",
       "[5 rows x 22 columns]"
      ]
     },
     "execution_count": 4,
     "metadata": {},
     "output_type": "execute_result"
    }
   ],
   "source": [
    "df.head()"
   ]
  },
  {
   "cell_type": "code",
   "execution_count": 5,
   "id": "9d17f541",
   "metadata": {},
   "outputs": [],
   "source": [
    "##Find basic information of data and show how many records and columns are in dataset?"
   ]
  },
  {
   "cell_type": "code",
   "execution_count": 6,
   "id": "babf4d16",
   "metadata": {},
   "outputs": [
    {
     "name": "stdout",
     "output_type": "stream",
     "text": [
      "<class 'pandas.core.frame.DataFrame'>\n",
      "RangeIndex: 2938 entries, 0 to 2937\n",
      "Data columns (total 22 columns):\n",
      " #   Column                           Non-Null Count  Dtype  \n",
      "---  ------                           --------------  -----  \n",
      " 0   Country                          2938 non-null   object \n",
      " 1   Year                             2938 non-null   int64  \n",
      " 2   Status                           2938 non-null   object \n",
      " 3   Life expectancy                  2928 non-null   float64\n",
      " 4   Adult Mortality                  2928 non-null   float64\n",
      " 5   infant deaths                    2938 non-null   int64  \n",
      " 6   Alcohol                          2744 non-null   float64\n",
      " 7   percentage expenditure           2938 non-null   float64\n",
      " 8   Hepatitis B                      2385 non-null   float64\n",
      " 9   Measles                          2938 non-null   int64  \n",
      " 10   BMI                             2904 non-null   float64\n",
      " 11  under-five deaths                2938 non-null   int64  \n",
      " 12  Polio                            2919 non-null   float64\n",
      " 13  Total expenditure                2712 non-null   float64\n",
      " 14  Diphtheria                       2919 non-null   float64\n",
      " 15   HIV/AIDS                        2938 non-null   float64\n",
      " 16  GDP                              2490 non-null   float64\n",
      " 17  Population                       2286 non-null   float64\n",
      " 18   thinness  1-19 years            2904 non-null   float64\n",
      " 19   thinness 5-9 years              2904 non-null   float64\n",
      " 20  Income composition of resources  2771 non-null   float64\n",
      " 21  Schooling                        2775 non-null   float64\n",
      "dtypes: float64(16), int64(4), object(2)\n",
      "memory usage: 505.1+ KB\n"
     ]
    }
   ],
   "source": [
    "df.info()"
   ]
  },
  {
   "cell_type": "code",
   "execution_count": 7,
   "id": "5673acbb",
   "metadata": {},
   "outputs": [],
   "source": [
    "#There are 2,938 records in the dataset.\n",
    "#And 22 columns are present in the dataset."
   ]
  },
  {
   "cell_type": "code",
   "execution_count": 8,
   "id": "f3f06845",
   "metadata": {},
   "outputs": [],
   "source": [
    "##Drop the unwanted columns thinness 1-19 years and thinness 5-9 years from the dataset"
   ]
  },
  {
   "cell_type": "code",
   "execution_count": 9,
   "id": "09c53d09",
   "metadata": {},
   "outputs": [],
   "source": [
    "df.drop([\" thinness  1-19 years\",\" thinness 5-9 years\"],axis=1,inplace=True)"
   ]
  },
  {
   "cell_type": "code",
   "execution_count": 10,
   "id": "3dfa027a",
   "metadata": {},
   "outputs": [],
   "source": [
    "## See whether the unwanted columns are dropped or not"
   ]
  },
  {
   "cell_type": "code",
   "execution_count": 11,
   "id": "b3ed500d",
   "metadata": {},
   "outputs": [
    {
     "data": {
      "text/plain": [
       "Index(['Country', 'Year', 'Status', 'Life expectancy ', 'Adult Mortality',\n",
       "       'infant deaths', 'Alcohol', 'percentage expenditure', 'Hepatitis B',\n",
       "       'Measles ', ' BMI ', 'under-five deaths ', 'Polio', 'Total expenditure',\n",
       "       'Diphtheria ', ' HIV/AIDS', 'GDP', 'Population',\n",
       "       'Income composition of resources', 'Schooling'],\n",
       "      dtype='object')"
      ]
     },
     "execution_count": 11,
     "metadata": {},
     "output_type": "execute_result"
    }
   ],
   "source": [
    "df.columns"
   ]
  },
  {
   "cell_type": "code",
   "execution_count": 12,
   "id": "920fe63b",
   "metadata": {},
   "outputs": [],
   "source": [
    "# so as you can see in the column we dont have unwanted columns in our dataset anymore."
   ]
  },
  {
   "cell_type": "code",
   "execution_count": 13,
   "id": "d3c1487a",
   "metadata": {},
   "outputs": [],
   "source": [
    "##Looking for null values in the data"
   ]
  },
  {
   "cell_type": "code",
   "execution_count": 14,
   "id": "8b9e693f",
   "metadata": {},
   "outputs": [
    {
     "data": {
      "text/plain": [
       "Country                              0\n",
       "Year                                 0\n",
       "Status                               0\n",
       "Life expectancy                     10\n",
       "Adult Mortality                     10\n",
       "infant deaths                        0\n",
       "Alcohol                            194\n",
       "percentage expenditure               0\n",
       "Hepatitis B                        553\n",
       "Measles                              0\n",
       " BMI                                34\n",
       "under-five deaths                    0\n",
       "Polio                               19\n",
       "Total expenditure                  226\n",
       "Diphtheria                          19\n",
       " HIV/AIDS                            0\n",
       "GDP                                448\n",
       "Population                         652\n",
       "Income composition of resources    167\n",
       "Schooling                          163\n",
       "dtype: int64"
      ]
     },
     "execution_count": 14,
     "metadata": {},
     "output_type": "execute_result"
    }
   ],
   "source": [
    "df.isnull().sum()"
   ]
  },
  {
   "cell_type": "code",
   "execution_count": 15,
   "id": "58de78f6",
   "metadata": {},
   "outputs": [],
   "source": [
    "##finding data in percentage with respect to total data present"
   ]
  },
  {
   "cell_type": "code",
   "execution_count": 16,
   "id": "9fd7ad1e",
   "metadata": {},
   "outputs": [
    {
     "data": {
      "text/plain": [
       "Country                             0.000000\n",
       "Year                                0.000000\n",
       "Status                              0.000000\n",
       "Life expectancy                     0.340368\n",
       "Adult Mortality                     0.340368\n",
       "infant deaths                       0.000000\n",
       "Alcohol                             6.603131\n",
       "percentage expenditure              0.000000\n",
       "Hepatitis B                        18.822328\n",
       "Measles                             0.000000\n",
       " BMI                                1.157250\n",
       "under-five deaths                   0.000000\n",
       "Polio                               0.646698\n",
       "Total expenditure                   7.692308\n",
       "Diphtheria                          0.646698\n",
       " HIV/AIDS                           0.000000\n",
       "GDP                                15.248468\n",
       "Population                         22.191967\n",
       "Income composition of resources     5.684139\n",
       "Schooling                           5.547992\n",
       "dtype: float64"
      ]
     },
     "execution_count": 16,
     "metadata": {},
     "output_type": "execute_result"
    }
   ],
   "source": [
    "df.isnull().sum()/len(df)*100"
   ]
  },
  {
   "cell_type": "code",
   "execution_count": 17,
   "id": "32ed1ad1",
   "metadata": {},
   "outputs": [],
   "source": [
    "##We have many null value in the dataset \n",
    "##so lets fill out these null values with mean value of the data which are more than 4%"
   ]
  },
  {
   "cell_type": "code",
   "execution_count": 18,
   "id": "ba6a1817",
   "metadata": {},
   "outputs": [],
   "source": [
    "#Replacing the Null Values with mean values of the data\n",
    "df[\"Alcohol\"]=df[\"Alcohol\"].fillna(df[\"Alcohol\"].mean())       "
   ]
  },
  {
   "cell_type": "code",
   "execution_count": 19,
   "id": "6c040837",
   "metadata": {},
   "outputs": [],
   "source": [
    "df[\"Hepatitis B\"]=df[\"Hepatitis B\"].fillna(df[\"Hepatitis B\"].mean()) "
   ]
  },
  {
   "cell_type": "code",
   "execution_count": 20,
   "id": "cbd92cbc",
   "metadata": {},
   "outputs": [],
   "source": [
    "df[\"Total expenditure\"]=df[\"Total expenditure\"].fillna(df[\"Total expenditure\"].mean())"
   ]
  },
  {
   "cell_type": "code",
   "execution_count": 21,
   "id": "562cf269",
   "metadata": {},
   "outputs": [],
   "source": [
    "df[\"GDP\"]=df[\"GDP\"].fillna(df[\"GDP\"].mean())"
   ]
  },
  {
   "cell_type": "code",
   "execution_count": 22,
   "id": "e235086c",
   "metadata": {},
   "outputs": [],
   "source": [
    "df[\"Population\"]=df[\"Population\"].fillna(df[\"Population\"].mean())"
   ]
  },
  {
   "cell_type": "code",
   "execution_count": 23,
   "id": "ef0d9697",
   "metadata": {},
   "outputs": [],
   "source": [
    "df[\"Income composition of resources\"]=df[\"Income composition of resources\"].fillna(df[\"Income composition of resources\"].mean())"
   ]
  },
  {
   "cell_type": "code",
   "execution_count": 24,
   "id": "65265c9b",
   "metadata": {},
   "outputs": [],
   "source": [
    "df[\"Schooling\"]=df[\"Schooling\"].fillna(df[\"Schooling\"].mean())"
   ]
  },
  {
   "cell_type": "code",
   "execution_count": 25,
   "id": "fbc50cd5",
   "metadata": {},
   "outputs": [],
   "source": [
    "##Remove the rows of a column which have null values less then 4%"
   ]
  },
  {
   "cell_type": "code",
   "execution_count": 26,
   "id": "ce42138b",
   "metadata": {},
   "outputs": [],
   "source": [
    "df.dropna(inplace=True)        "
   ]
  },
  {
   "cell_type": "code",
   "execution_count": 27,
   "id": "e71e65dc",
   "metadata": {},
   "outputs": [],
   "source": [
    "##Looking for null values after filling"
   ]
  },
  {
   "cell_type": "code",
   "execution_count": 28,
   "id": "b0bf39bf",
   "metadata": {},
   "outputs": [
    {
     "data": {
      "text/plain": [
       "Country                            0\n",
       "Year                               0\n",
       "Status                             0\n",
       "Life expectancy                    0\n",
       "Adult Mortality                    0\n",
       "infant deaths                      0\n",
       "Alcohol                            0\n",
       "percentage expenditure             0\n",
       "Hepatitis B                        0\n",
       "Measles                            0\n",
       " BMI                               0\n",
       "under-five deaths                  0\n",
       "Polio                              0\n",
       "Total expenditure                  0\n",
       "Diphtheria                         0\n",
       " HIV/AIDS                          0\n",
       "GDP                                0\n",
       "Population                         0\n",
       "Income composition of resources    0\n",
       "Schooling                          0\n",
       "dtype: int64"
      ]
     },
     "execution_count": 28,
     "metadata": {},
     "output_type": "execute_result"
    }
   ],
   "source": [
    "df.isnull().sum()"
   ]
  },
  {
   "cell_type": "code",
   "execution_count": 29,
   "id": "1aa73803",
   "metadata": {},
   "outputs": [],
   "source": [
    "#There are no no null values anymore in the dataset."
   ]
  },
  {
   "cell_type": "code",
   "execution_count": 30,
   "id": "10b5fc23",
   "metadata": {},
   "outputs": [],
   "source": [
    "##How many records and columns are in dataset after cleaning the data"
   ]
  },
  {
   "cell_type": "code",
   "execution_count": 31,
   "id": "d950cb0d",
   "metadata": {},
   "outputs": [
    {
     "data": {
      "text/plain": [
       "(2888, 20)"
      ]
     },
     "execution_count": 31,
     "metadata": {},
     "output_type": "execute_result"
    }
   ],
   "source": [
    "df.shape"
   ]
  },
  {
   "cell_type": "code",
   "execution_count": 32,
   "id": "656da192",
   "metadata": {},
   "outputs": [],
   "source": [
    "#There are total 2,888 records in the dataset now. \n",
    "#And 20 columns in the dataset after cleaning the data."
   ]
  },
  {
   "cell_type": "code",
   "execution_count": 33,
   "id": "d998420f",
   "metadata": {},
   "outputs": [],
   "source": [
    "##Statistics of the dataset"
   ]
  },
  {
   "cell_type": "code",
   "execution_count": 34,
   "id": "90b75452",
   "metadata": {},
   "outputs": [
    {
     "data": {
      "text/html": [
       "<div>\n",
       "<style scoped>\n",
       "    .dataframe tbody tr th:only-of-type {\n",
       "        vertical-align: middle;\n",
       "    }\n",
       "\n",
       "    .dataframe tbody tr th {\n",
       "        vertical-align: top;\n",
       "    }\n",
       "\n",
       "    .dataframe thead th {\n",
       "        text-align: right;\n",
       "    }\n",
       "</style>\n",
       "<table border=\"1\" class=\"dataframe\">\n",
       "  <thead>\n",
       "    <tr style=\"text-align: right;\">\n",
       "      <th></th>\n",
       "      <th>Year</th>\n",
       "      <th>Life expectancy</th>\n",
       "      <th>Adult Mortality</th>\n",
       "      <th>infant deaths</th>\n",
       "      <th>Alcohol</th>\n",
       "      <th>percentage expenditure</th>\n",
       "      <th>Hepatitis B</th>\n",
       "      <th>Measles</th>\n",
       "      <th>BMI</th>\n",
       "      <th>under-five deaths</th>\n",
       "      <th>Polio</th>\n",
       "      <th>Total expenditure</th>\n",
       "      <th>Diphtheria</th>\n",
       "      <th>HIV/AIDS</th>\n",
       "      <th>GDP</th>\n",
       "      <th>Population</th>\n",
       "      <th>Income composition of resources</th>\n",
       "      <th>Schooling</th>\n",
       "    </tr>\n",
       "  </thead>\n",
       "  <tbody>\n",
       "    <tr>\n",
       "      <th>count</th>\n",
       "      <td>2888.000000</td>\n",
       "      <td>2888.000000</td>\n",
       "      <td>2888.000000</td>\n",
       "      <td>2888.000000</td>\n",
       "      <td>2888.000000</td>\n",
       "      <td>2888.000000</td>\n",
       "      <td>2888.000000</td>\n",
       "      <td>2888.000000</td>\n",
       "      <td>2888.000000</td>\n",
       "      <td>2888.000000</td>\n",
       "      <td>2888.000000</td>\n",
       "      <td>2888.000000</td>\n",
       "      <td>2888.000000</td>\n",
       "      <td>2888.000000</td>\n",
       "      <td>2888.000000</td>\n",
       "      <td>2.888000e+03</td>\n",
       "      <td>2888.000000</td>\n",
       "      <td>2888.000000</td>\n",
       "    </tr>\n",
       "    <tr>\n",
       "      <th>mean</th>\n",
       "      <td>2007.515235</td>\n",
       "      <td>69.349377</td>\n",
       "      <td>163.357341</td>\n",
       "      <td>30.314751</td>\n",
       "      <td>4.641347</td>\n",
       "      <td>749.475611</td>\n",
       "      <td>81.007182</td>\n",
       "      <td>2442.514543</td>\n",
       "      <td>38.221087</td>\n",
       "      <td>41.985803</td>\n",
       "      <td>82.672091</td>\n",
       "      <td>5.932107</td>\n",
       "      <td>82.437673</td>\n",
       "      <td>1.749792</td>\n",
       "      <td>7562.721945</td>\n",
       "      <td>1.281706e+07</td>\n",
       "      <td>0.632266</td>\n",
       "      <td>12.109469</td>\n",
       "    </tr>\n",
       "    <tr>\n",
       "      <th>std</th>\n",
       "      <td>4.606938</td>\n",
       "      <td>9.495441</td>\n",
       "      <td>124.018934</td>\n",
       "      <td>118.891670</td>\n",
       "      <td>3.928765</td>\n",
       "      <td>2003.090073</td>\n",
       "      <td>22.591612</td>\n",
       "      <td>11561.322467</td>\n",
       "      <td>19.962630</td>\n",
       "      <td>161.743345</td>\n",
       "      <td>23.333655</td>\n",
       "      <td>2.389792</td>\n",
       "      <td>23.648907</td>\n",
       "      <td>5.116551</td>\n",
       "      <td>13230.701407</td>\n",
       "      <td>5.425575e+07</td>\n",
       "      <td>0.200418</td>\n",
       "      <td>3.107469</td>\n",
       "    </tr>\n",
       "    <tr>\n",
       "      <th>min</th>\n",
       "      <td>2000.000000</td>\n",
       "      <td>36.300000</td>\n",
       "      <td>1.000000</td>\n",
       "      <td>0.000000</td>\n",
       "      <td>0.010000</td>\n",
       "      <td>0.000000</td>\n",
       "      <td>1.000000</td>\n",
       "      <td>0.000000</td>\n",
       "      <td>1.000000</td>\n",
       "      <td>0.000000</td>\n",
       "      <td>3.000000</td>\n",
       "      <td>0.370000</td>\n",
       "      <td>2.000000</td>\n",
       "      <td>0.100000</td>\n",
       "      <td>1.681350</td>\n",
       "      <td>3.400000e+01</td>\n",
       "      <td>0.000000</td>\n",
       "      <td>0.000000</td>\n",
       "    </tr>\n",
       "    <tr>\n",
       "      <th>25%</th>\n",
       "      <td>2004.000000</td>\n",
       "      <td>63.475000</td>\n",
       "      <td>73.000000</td>\n",
       "      <td>0.000000</td>\n",
       "      <td>1.107500</td>\n",
       "      <td>5.049462</td>\n",
       "      <td>80.940461</td>\n",
       "      <td>0.000000</td>\n",
       "      <td>19.300000</td>\n",
       "      <td>0.000000</td>\n",
       "      <td>78.000000</td>\n",
       "      <td>4.370000</td>\n",
       "      <td>78.000000</td>\n",
       "      <td>0.100000</td>\n",
       "      <td>579.651825</td>\n",
       "      <td>4.158228e+05</td>\n",
       "      <td>0.511750</td>\n",
       "      <td>10.400000</td>\n",
       "    </tr>\n",
       "    <tr>\n",
       "      <th>50%</th>\n",
       "      <td>2008.000000</td>\n",
       "      <td>72.200000</td>\n",
       "      <td>143.000000</td>\n",
       "      <td>3.000000</td>\n",
       "      <td>4.165000</td>\n",
       "      <td>67.687008</td>\n",
       "      <td>87.000000</td>\n",
       "      <td>17.000000</td>\n",
       "      <td>43.250000</td>\n",
       "      <td>4.000000</td>\n",
       "      <td>93.000000</td>\n",
       "      <td>5.930000</td>\n",
       "      <td>93.000000</td>\n",
       "      <td>0.100000</td>\n",
       "      <td>3156.550182</td>\n",
       "      <td>3.692912e+06</td>\n",
       "      <td>0.666000</td>\n",
       "      <td>12.200000</td>\n",
       "    </tr>\n",
       "    <tr>\n",
       "      <th>75%</th>\n",
       "      <td>2012.000000</td>\n",
       "      <td>75.800000</td>\n",
       "      <td>225.000000</td>\n",
       "      <td>21.000000</td>\n",
       "      <td>7.490000</td>\n",
       "      <td>454.422430</td>\n",
       "      <td>96.000000</td>\n",
       "      <td>352.250000</td>\n",
       "      <td>56.100000</td>\n",
       "      <td>26.000000</td>\n",
       "      <td>97.000000</td>\n",
       "      <td>7.322500</td>\n",
       "      <td>97.000000</td>\n",
       "      <td>0.800000</td>\n",
       "      <td>7483.158469</td>\n",
       "      <td>1.275338e+07</td>\n",
       "      <td>0.774000</td>\n",
       "      <td>14.200000</td>\n",
       "    </tr>\n",
       "    <tr>\n",
       "      <th>max</th>\n",
       "      <td>2015.000000</td>\n",
       "      <td>89.000000</td>\n",
       "      <td>723.000000</td>\n",
       "      <td>1800.000000</td>\n",
       "      <td>17.870000</td>\n",
       "      <td>19479.911610</td>\n",
       "      <td>99.000000</td>\n",
       "      <td>212183.000000</td>\n",
       "      <td>77.600000</td>\n",
       "      <td>2500.000000</td>\n",
       "      <td>99.000000</td>\n",
       "      <td>17.600000</td>\n",
       "      <td>99.000000</td>\n",
       "      <td>50.600000</td>\n",
       "      <td>119172.741800</td>\n",
       "      <td>1.293859e+09</td>\n",
       "      <td>0.948000</td>\n",
       "      <td>20.700000</td>\n",
       "    </tr>\n",
       "  </tbody>\n",
       "</table>\n",
       "</div>"
      ],
      "text/plain": [
       "              Year  Life expectancy   Adult Mortality  infant deaths  \\\n",
       "count  2888.000000       2888.000000      2888.000000    2888.000000   \n",
       "mean   2007.515235         69.349377       163.357341      30.314751   \n",
       "std       4.606938          9.495441       124.018934     118.891670   \n",
       "min    2000.000000         36.300000         1.000000       0.000000   \n",
       "25%    2004.000000         63.475000        73.000000       0.000000   \n",
       "50%    2008.000000         72.200000       143.000000       3.000000   \n",
       "75%    2012.000000         75.800000       225.000000      21.000000   \n",
       "max    2015.000000         89.000000       723.000000    1800.000000   \n",
       "\n",
       "           Alcohol  percentage expenditure  Hepatitis B       Measles   \\\n",
       "count  2888.000000             2888.000000  2888.000000    2888.000000   \n",
       "mean      4.641347              749.475611    81.007182    2442.514543   \n",
       "std       3.928765             2003.090073    22.591612   11561.322467   \n",
       "min       0.010000                0.000000     1.000000       0.000000   \n",
       "25%       1.107500                5.049462    80.940461       0.000000   \n",
       "50%       4.165000               67.687008    87.000000      17.000000   \n",
       "75%       7.490000              454.422430    96.000000     352.250000   \n",
       "max      17.870000            19479.911610    99.000000  212183.000000   \n",
       "\n",
       "              BMI   under-five deaths         Polio  Total expenditure  \\\n",
       "count  2888.000000         2888.000000  2888.000000        2888.000000   \n",
       "mean     38.221087           41.985803    82.672091           5.932107   \n",
       "std      19.962630          161.743345    23.333655           2.389792   \n",
       "min       1.000000            0.000000     3.000000           0.370000   \n",
       "25%      19.300000            0.000000    78.000000           4.370000   \n",
       "50%      43.250000            4.000000    93.000000           5.930000   \n",
       "75%      56.100000           26.000000    97.000000           7.322500   \n",
       "max      77.600000         2500.000000    99.000000          17.600000   \n",
       "\n",
       "       Diphtheria      HIV/AIDS            GDP    Population  \\\n",
       "count  2888.000000  2888.000000    2888.000000  2.888000e+03   \n",
       "mean     82.437673     1.749792    7562.721945  1.281706e+07   \n",
       "std      23.648907     5.116551   13230.701407  5.425575e+07   \n",
       "min       2.000000     0.100000       1.681350  3.400000e+01   \n",
       "25%      78.000000     0.100000     579.651825  4.158228e+05   \n",
       "50%      93.000000     0.100000    3156.550182  3.692912e+06   \n",
       "75%      97.000000     0.800000    7483.158469  1.275338e+07   \n",
       "max      99.000000    50.600000  119172.741800  1.293859e+09   \n",
       "\n",
       "       Income composition of resources    Schooling  \n",
       "count                      2888.000000  2888.000000  \n",
       "mean                          0.632266    12.109469  \n",
       "std                           0.200418     3.107469  \n",
       "min                           0.000000     0.000000  \n",
       "25%                           0.511750    10.400000  \n",
       "50%                           0.666000    12.200000  \n",
       "75%                           0.774000    14.200000  \n",
       "max                           0.948000    20.700000  "
      ]
     },
     "execution_count": 34,
     "metadata": {},
     "output_type": "execute_result"
    }
   ],
   "source": [
    "df.describe()"
   ]
  },
  {
   "cell_type": "code",
   "execution_count": 35,
   "id": "b93efad4",
   "metadata": {},
   "outputs": [],
   "source": [
    "# Statistics about the data (mean , std, min etc.)\n",
    "# the average life expectancy is age of 69.34\n",
    "# the maximum alcohol consumption per litre 17.87 and the minimum is 0.01\n",
    "# the std of infant deaths are 118.89"
   ]
  },
  {
   "cell_type": "code",
   "execution_count": 36,
   "id": "4ec09c8d",
   "metadata": {},
   "outputs": [],
   "source": [
    "##Show how many Developing and developed countries are present in the Status column?"
   ]
  },
  {
   "cell_type": "code",
   "execution_count": 37,
   "id": "4f182620",
   "metadata": {},
   "outputs": [
    {
     "data": {
      "text/plain": [
       "Developing    2376\n",
       "Developed      512\n",
       "Name: Status, dtype: int64"
      ]
     },
     "execution_count": 37,
     "metadata": {},
     "output_type": "execute_result"
    }
   ],
   "source": [
    "df[\"Status\"].value_counts()"
   ]
  },
  {
   "cell_type": "code",
   "execution_count": 38,
   "id": "7fa4be75",
   "metadata": {},
   "outputs": [],
   "source": [
    "# There are 2,376 Developing countries present in the dataset.\n",
    "# And around 512 Developed countries present in the dataset."
   ]
  },
  {
   "cell_type": "code",
   "execution_count": 39,
   "id": "4f0c5882",
   "metadata": {},
   "outputs": [],
   "source": [
    "##Compare the Life expectancy of developing and developed countries."
   ]
  },
  {
   "cell_type": "code",
   "execution_count": 40,
   "id": "7d4211a5",
   "metadata": {},
   "outputs": [
    {
     "data": {
      "text/plain": [
       "Status\n",
       "Developed     79.197852\n",
       "Developing    67.227146\n",
       "Name: Life expectancy , dtype: float64"
      ]
     },
     "execution_count": 40,
     "metadata": {},
     "output_type": "execute_result"
    }
   ],
   "source": [
    "df.groupby(\"Status\")[\"Life expectancy \"].mean()"
   ]
  },
  {
   "cell_type": "code",
   "execution_count": 41,
   "id": "cd9ddf76",
   "metadata": {},
   "outputs": [],
   "source": [
    "#According to this,The Developed countries have average Life expectancy of 80 age.\n",
    "#And The Developing countries have average Life expectancy of 68 age."
   ]
  },
  {
   "cell_type": "code",
   "execution_count": 42,
   "id": "d76e420e",
   "metadata": {},
   "outputs": [],
   "source": [
    "##Show the Life expectancy of developing and developed countries in the bar plot."
   ]
  },
  {
   "cell_type": "code",
   "execution_count": 43,
   "id": "8b80f449",
   "metadata": {},
   "outputs": [
    {
     "data": {
      "text/plain": [
       "<AxesSubplot:xlabel='Status'>"
      ]
     },
     "execution_count": 43,
     "metadata": {},
     "output_type": "execute_result"
    },
    {
     "data": {
      "image/png": "[encoded data removed]",
      "text/plain": [
       "<Figure size 432x288 with 1 Axes>"
      ]
     },
     "metadata": {
      "needs_background": "light"
     },
     "output_type": "display_data"
    }
   ],
   "source": [
    "df.groupby(\"Status\")[\"Life expectancy \"].mean().plot(kind='bar',color='aqua',edgecolor='blue')"
   ]
  },
  {
   "cell_type": "code",
   "execution_count": 44,
   "id": "cee8dcff",
   "metadata": {},
   "outputs": [],
   "source": [
    "#As you can see in the above bar graph,\n",
    "#The Developed countries stay in the range between 70 to 80.\n",
    "#The Developing countries stay in the range between 60 to 70.\n",
    "#This means that the developed countries have high life expectancy all over the world.\n",
    "#And in the other hand,the Developing countries have low life expectancy. "
   ]
  },
  {
   "cell_type": "code",
   "execution_count": 45,
   "id": "9fb53df6",
   "metadata": {},
   "outputs": [],
   "source": [
    "##Distribution of Life Expectancy according to the age"
   ]
  },
  {
   "cell_type": "code",
   "execution_count": 46,
   "id": "b42fe5e5",
   "metadata": {},
   "outputs": [
    {
     "data": {
      "image/png": "[encoded data removed]",
      "text/plain": [
       "<Figure size 432x288 with 1 Axes>"
      ]
     },
     "metadata": {
      "needs_background": "light"
     },
     "output_type": "display_data"
    }
   ],
   "source": [
    "plt.hist(df['Life expectancy '],color='orange',edgecolor='white')\n",
    "plt.xlabel('Life expectancy ')\n",
    "plt.ylabel('Frequency')\n",
    "plt.title('Life expectancy distribution')\n",
    "plt.show()"
   ]
  },
  {
   "cell_type": "code",
   "execution_count": 47,
   "id": "187c6640",
   "metadata": {},
   "outputs": [],
   "source": [
    "#We can interpret that this graph as the life expectancy is high.\n",
    "#It is between the age of 70 to 75 all over the world."
   ]
  },
  {
   "cell_type": "code",
   "execution_count": 48,
   "id": "84fb4754",
   "metadata": {},
   "outputs": [],
   "source": [
    "##Relationship between Alcohol and Life expectancy"
   ]
  },
  {
   "cell_type": "code",
   "execution_count": 49,
   "id": "ee702ada",
   "metadata": {},
   "outputs": [
    {
     "data": {
      "text/plain": [
       "<matplotlib.collections.PathCollection at 0x1537bffc250>"
      ]
     },
     "execution_count": 49,
     "metadata": {},
     "output_type": "execute_result"
    },
    {
     "data": {
      "image/png": "[encoded data removed]",
      "text/plain": [
       "<Figure size 432x288 with 1 Axes>"
      ]
     },
     "metadata": {
      "needs_background": "light"
     },
     "output_type": "display_data"
    }
   ],
   "source": [
    "plt.scatter(df['Alcohol'],df['Life expectancy '],color='green',edgecolor='aqua')"
   ]
  },
  {
   "cell_type": "code",
   "execution_count": 50,
   "id": "0334e5f7",
   "metadata": {},
   "outputs": [],
   "source": [
    "# As you can see in the graph,\n",
    "#There is no correlation between alcohol which is in litres and life expectancy in age."
   ]
  },
  {
   "cell_type": "code",
   "execution_count": 51,
   "id": "77804657",
   "metadata": {},
   "outputs": [],
   "source": [
    "##What is a Developed and Developing countries average GDP and show the pie chart of it"
   ]
  },
  {
   "cell_type": "code",
   "execution_count": 52,
   "id": "a9e1702a",
   "metadata": {},
   "outputs": [
    {
     "data": {
      "text/plain": [
       "Status\n",
       "Developed     20232.107949\n",
       "Developing     4832.618564\n",
       "Name: GDP, dtype: float64"
      ]
     },
     "execution_count": 52,
     "metadata": {},
     "output_type": "execute_result"
    }
   ],
   "source": [
    "df.groupby(\"Status\")[\"GDP\"].mean()"
   ]
  },
  {
   "cell_type": "code",
   "execution_count": 53,
   "id": "515d01b1",
   "metadata": {},
   "outputs": [],
   "source": [
    "#AS you can see above,\n",
    "# The average gdp of Developed countries are 20,233.\n",
    "# The average gdp of Developing countries are 4,833."
   ]
  },
  {
   "cell_type": "code",
   "execution_count": 54,
   "id": "433574a4",
   "metadata": {},
   "outputs": [
    {
     "data": {
      "text/plain": [
       "<AxesSubplot:ylabel='GDP'>"
      ]
     },
     "execution_count": 54,
     "metadata": {},
     "output_type": "execute_result"
    },
    {
     "data": {
      "image/png": "[encoded data removed]",
      "text/plain": [
       "<Figure size 432x288 with 1 Axes>"
      ]
     },
     "metadata": {},
     "output_type": "display_data"
    }
   ],
   "source": [
    "df.groupby(\"Status\")[\"GDP\"].mean().plot.pie(autopct=\"%1.2f%%\",colors=['yellow','aqua'])"
   ]
  },
  {
   "cell_type": "code",
   "execution_count": 55,
   "id": "49b53089",
   "metadata": {},
   "outputs": [],
   "source": [
    "#As you can see in the above pie chart,\n",
    "#This means that the developed countries have high Gdp all over the world.\n",
    "#And in the other hand,the Developing countries have low Gdp. "
   ]
  },
  {
   "cell_type": "code",
   "execution_count": 56,
   "id": "73b4405e",
   "metadata": {},
   "outputs": [],
   "source": [
    "##What is the amount of Adult mortality have been happening around the world by average \n",
    "## show the bar graph of it"
   ]
  },
  {
   "cell_type": "code",
   "execution_count": 57,
   "id": "dbcd7968",
   "metadata": {},
   "outputs": [
    {
     "data": {
      "text/plain": [
       "Status\n",
       "Developed      79.685547\n",
       "Developing    181.387626\n",
       "Name: Adult Mortality, dtype: float64"
      ]
     },
     "execution_count": 57,
     "metadata": {},
     "output_type": "execute_result"
    }
   ],
   "source": [
    "df.groupby(\"Status\")[\"Adult Mortality\"].mean()"
   ]
  },
  {
   "cell_type": "code",
   "execution_count": 58,
   "id": "d5d33410",
   "metadata": {},
   "outputs": [],
   "source": [
    "#As you an see above,\n",
    "#In the developed countries,the adult mortality have been calculated around 79.68\n",
    "# In the developing countries,the adult mortalityhave been calculated around 181.38"
   ]
  },
  {
   "cell_type": "code",
   "execution_count": 59,
   "id": "31b1575b",
   "metadata": {},
   "outputs": [
    {
     "data": {
      "text/plain": [
       "<AxesSubplot:xlabel='Status'>"
      ]
     },
     "execution_count": 59,
     "metadata": {},
     "output_type": "execute_result"
    },
    {
     "data": {
      "image/png": "[encoded data removed]",
      "text/plain": [
       "<Figure size 432x288 with 1 Axes>"
      ]
     },
     "metadata": {
      "needs_background": "light"
     },
     "output_type": "display_data"
    }
   ],
   "source": [
    "df.groupby(\"Status\")[\"Adult Mortality\"].mean().plot(kind='bar',color='purple',edgecolor='blue')"
   ]
  },
  {
   "cell_type": "code",
   "execution_count": 60,
   "id": "eb4f1acf",
   "metadata": {},
   "outputs": [],
   "source": [
    "#As you can see in the above bar graph,\n",
    "#The Developed countries stay in the range between more then 75 and less then 100 adult mortality.\n",
    "#The Developing countries stay in the range of more then 175 adult mortality.\n",
    "#This means that the developed countries have low adult mortality all over the world.\n",
    "#And in the other hand,the Developing countries have high adult mortality. "
   ]
  },
  {
   "cell_type": "code",
   "execution_count": 61,
   "id": "6bcf6197",
   "metadata": {},
   "outputs": [],
   "source": [
    "##What is the amount of infant deaths have been happening around the world by average\n",
    "##show the bar graph of it"
   ]
  },
  {
   "cell_type": "code",
   "execution_count": 62,
   "id": "090dcfec",
   "metadata": {},
   "outputs": [
    {
     "data": {
      "text/plain": [
       "Status\n",
       "Developed      1.494141\n",
       "Developing    36.525253\n",
       "Name: infant deaths, dtype: float64"
      ]
     },
     "execution_count": 62,
     "metadata": {},
     "output_type": "execute_result"
    }
   ],
   "source": [
    "df.groupby(\"Status\")[\"infant deaths\"].mean()"
   ]
  },
  {
   "cell_type": "code",
   "execution_count": 63,
   "id": "c7a2270d",
   "metadata": {},
   "outputs": [],
   "source": [
    "#AS you can see above,\n",
    "# In the developed countries,the infant deaths have been calculated around 1.49\n",
    "# In the developing countries,the infant deaths have been calculated around 36.52"
   ]
  },
  {
   "cell_type": "code",
   "execution_count": 64,
   "id": "e8686678",
   "metadata": {},
   "outputs": [
    {
     "data": {
      "text/plain": [
       "<AxesSubplot:xlabel='Status'>"
      ]
     },
     "execution_count": 64,
     "metadata": {},
     "output_type": "execute_result"
    },
    {
     "data": {
      "image/png": "[encoded data removed]",
      "text/plain": [
       "<Figure size 432x288 with 1 Axes>"
      ]
     },
     "metadata": {
      "needs_background": "light"
     },
     "output_type": "display_data"
    }
   ],
   "source": [
    "df.groupby(\"Status\")[\"infant deaths\"].mean().plot(kind='bar',color='red',edgecolor='yellow')"
   ]
  },
  {
   "cell_type": "code",
   "execution_count": 65,
   "id": "b4d542dd",
   "metadata": {},
   "outputs": [],
   "source": [
    "#As you can see in the above bar graph,\n",
    "#The Developed countries stay in the range between 0 to 5 in the infant death rate.\n",
    "#The Developing countries stay in the range of more then 35 in the infant death rate.\n",
    "#This means that the developed countries have low infant death rates  all over the world.\n",
    "#And in the other hand,the Developing countries have high infant death rates."
   ]
  },
  {
   "cell_type": "code",
   "execution_count": 66,
   "id": "835974c7",
   "metadata": {},
   "outputs": [],
   "source": [
    "##How many people have been affected by the polio all over the world by average\n",
    "##show the pie chart"
   ]
  },
  {
   "cell_type": "code",
   "execution_count": 67,
   "id": "3945958b",
   "metadata": {},
   "outputs": [
    {
     "data": {
      "text/plain": [
       "Status\n",
       "Developed     93.736328\n",
       "Developing    80.287879\n",
       "Name: Polio, dtype: float64"
      ]
     },
     "execution_count": 67,
     "metadata": {},
     "output_type": "execute_result"
    }
   ],
   "source": [
    "df.groupby(\"Status\")[\"Polio\"].mean()"
   ]
  },
  {
   "cell_type": "code",
   "execution_count": 68,
   "id": "a810ba1d",
   "metadata": {},
   "outputs": [],
   "source": [
    "#AS you can see above,\n",
    "# In the developed countries,the people affected by polio have been calculated around 93.73\n",
    "# In the developing countries,the people affected by polio have been calculated around 80.28"
   ]
  },
  {
   "cell_type": "code",
   "execution_count": 69,
   "id": "008fb3a7",
   "metadata": {},
   "outputs": [
    {
     "data": {
      "text/plain": [
       "<AxesSubplot:ylabel='Polio'>"
      ]
     },
     "execution_count": 69,
     "metadata": {},
     "output_type": "execute_result"
    },
    {
     "data": {
      "image/png": "[encoded data removed]",
      "text/plain": [
       "<Figure size 432x288 with 1 Axes>"
      ]
     },
     "metadata": {},
     "output_type": "display_data"
    }
   ],
   "source": [
    "df.groupby(\"Status\")[\"Polio\"].mean().plot.pie(autopct=\"%1.2f%%\",colors=['red','violet'])"
   ]
  },
  {
   "cell_type": "code",
   "execution_count": 70,
   "id": "81a6e94f",
   "metadata": {},
   "outputs": [],
   "source": [
    "##How many people get affected by Alcohol by average\n",
    "##Show the bar graph"
   ]
  },
  {
   "cell_type": "code",
   "execution_count": 71,
   "id": "166aa16e",
   "metadata": {},
   "outputs": [
    {
     "data": {
      "text/plain": [
       "Status\n",
       "Developed     9.541055\n",
       "Developing    3.585518\n",
       "Name: Alcohol, dtype: float64"
      ]
     },
     "execution_count": 71,
     "metadata": {},
     "output_type": "execute_result"
    }
   ],
   "source": [
    "df.groupby(\"Status\")[\"Alcohol\"].mean()"
   ]
  },
  {
   "cell_type": "code",
   "execution_count": 72,
   "id": "910d1567",
   "metadata": {},
   "outputs": [],
   "source": [
    "#The average person consume alcohol and dies in developed countries are 9.54\n",
    "#The average person consume alcohol and dies in developing countries are 3.58"
   ]
  },
  {
   "cell_type": "code",
   "execution_count": 73,
   "id": "5db90190",
   "metadata": {},
   "outputs": [
    {
     "data": {
      "text/plain": [
       "<AxesSubplot:xlabel='Status'>"
      ]
     },
     "execution_count": 73,
     "metadata": {},
     "output_type": "execute_result"
    },
    {
     "data": {
      "image/png": "[encoded data removed]",
      "text/plain": [
       "<Figure size 432x288 with 1 Axes>"
      ]
     },
     "metadata": {
      "needs_background": "light"
     },
     "output_type": "display_data"
    }
   ],
   "source": [
    "df.groupby(\"Status\")[\"Alcohol\"].mean().plot(kind='bar',color='blue',edgecolor='red')"
   ]
  },
  {
   "cell_type": "code",
   "execution_count": 74,
   "id": "3c84f0d4",
   "metadata": {},
   "outputs": [],
   "source": [
    "#In the above bar graph,\n",
    "#you can see that the large number of people die because of alcohol are from developed countries.\n",
    "#and the low  number of people die are from developing countries as per the average taken."
   ]
  },
  {
   "cell_type": "code",
   "execution_count": 75,
   "id": "9f486524",
   "metadata": {},
   "outputs": [],
   "source": [
    "##How many people go through Hepatitis B by average around the world\n",
    "##Show the pie chart"
   ]
  },
  {
   "cell_type": "code",
   "execution_count": 76,
   "id": "7b8015d7",
   "metadata": {},
   "outputs": [
    {
     "data": {
      "text/plain": [
       "Status\n",
       "Developed     85.641992\n",
       "Developing    80.008435\n",
       "Name: Hepatitis B, dtype: float64"
      ]
     },
     "execution_count": 76,
     "metadata": {},
     "output_type": "execute_result"
    }
   ],
   "source": [
    "df.groupby(\"Status\")[\"Hepatitis B\"].mean()"
   ]
  },
  {
   "cell_type": "code",
   "execution_count": 77,
   "id": "0f4095df",
   "metadata": {},
   "outputs": [],
   "source": [
    "#The average person dies by Hepatitis B in developed countries are 85.64\n",
    "#The average person dies by Hepatitis B in developing countries are 80.00"
   ]
  },
  {
   "cell_type": "code",
   "execution_count": 78,
   "id": "d580f92f",
   "metadata": {},
   "outputs": [
    {
     "data": {
      "text/plain": [
       "<AxesSubplot:ylabel='Hepatitis B'>"
      ]
     },
     "execution_count": 78,
     "metadata": {},
     "output_type": "execute_result"
    },
    {
     "data": {
      "image/png": "[encoded data removed]",
      "text/plain": [
       "<Figure size 432x288 with 1 Axes>"
      ]
     },
     "metadata": {},
     "output_type": "display_data"
    }
   ],
   "source": [
    "df.groupby(\"Status\")[\"Hepatitis B\"].mean().plot.pie(autopct=\"%1.2f%%\",explode=(0,0.1),colors=['purple','pink'])"
   ]
  },
  {
   "cell_type": "code",
   "execution_count": 79,
   "id": "a848d43b",
   "metadata": {},
   "outputs": [],
   "source": [
    "##How many people go through Diphtheria by average around the world?"
   ]
  },
  {
   "cell_type": "code",
   "execution_count": 80,
   "id": "a146aca7",
   "metadata": {},
   "outputs": [
    {
     "data": {
      "text/plain": [
       "Status\n",
       "Developed     93.476562\n",
       "Developing    80.058923\n",
       "Name: Diphtheria , dtype: float64"
      ]
     },
     "execution_count": 80,
     "metadata": {},
     "output_type": "execute_result"
    }
   ],
   "source": [
    "df.groupby(\"Status\")[\"Diphtheria \"].mean()"
   ]
  },
  {
   "cell_type": "code",
   "execution_count": 81,
   "id": "8c28fba7",
   "metadata": {},
   "outputs": [],
   "source": [
    "#The average person dies by Diphtheria  in developed countries are 93.47\n",
    "#The average person dies by Diphtheria in developing countries are 80.05"
   ]
  },
  {
   "cell_type": "code",
   "execution_count": 82,
   "id": "31673516",
   "metadata": {},
   "outputs": [],
   "source": [
    "##What is the average number of deaths by HIV/AIDS\n",
    "##Show it in bar graph"
   ]
  },
  {
   "cell_type": "code",
   "execution_count": 83,
   "id": "79ab63c9",
   "metadata": {},
   "outputs": [
    {
     "data": {
      "text/plain": [
       "Status\n",
       "Developed     0.100000\n",
       "Developing    2.105303\n",
       "Name:  HIV/AIDS, dtype: float64"
      ]
     },
     "execution_count": 83,
     "metadata": {},
     "output_type": "execute_result"
    }
   ],
   "source": [
    "df.groupby(\"Status\")[\" HIV/AIDS\"].mean()"
   ]
  },
  {
   "cell_type": "code",
   "execution_count": 84,
   "id": "b43bfb4b",
   "metadata": {},
   "outputs": [],
   "source": [
    "#The average person dies by  HIV/AIDS  in developed countries are 0.100\n",
    "#The average person dies by  HIV/AIDS in developing countries are 2.105"
   ]
  },
  {
   "cell_type": "code",
   "execution_count": 85,
   "id": "8daeb3c9",
   "metadata": {},
   "outputs": [
    {
     "data": {
      "text/plain": [
       "<AxesSubplot:xlabel='Status'>"
      ]
     },
     "execution_count": 85,
     "metadata": {},
     "output_type": "execute_result"
    },
    {
     "data": {
      "image/png": "[encoded data removed]",
      "text/plain": [
       "<Figure size 432x288 with 1 Axes>"
      ]
     },
     "metadata": {
      "needs_background": "light"
     },
     "output_type": "display_data"
    }
   ],
   "source": [
    "df.groupby(\"Status\")[\" HIV/AIDS\"].mean().plot(kind='bar',color='violet',edgecolor='blue')"
   ]
  },
  {
   "cell_type": "code",
   "execution_count": 86,
   "id": "241e2011",
   "metadata": {},
   "outputs": [],
   "source": [
    "##What is the overall percentage of Hepatitis B in Afghanistan,Algeria and Angola."
   ]
  },
  {
   "cell_type": "code",
   "execution_count": 87,
   "id": "d5a7682f",
   "metadata": {},
   "outputs": [
    {
     "data": {
      "text/plain": [
       "Country\n",
       "Afghanistan                           35.768698\n",
       "Albania                               54.293629\n",
       "Algeria                               43.620562\n",
       "Angola                                41.502189\n",
       "Antigua and Barbuda                   53.841429\n",
       "                                        ...    \n",
       "Venezuela (Bolivarian Republic of)    36.703601\n",
       "Viet Nam                              47.812375\n",
       "Yemen                                 30.851801\n",
       "Zambia                                40.606036\n",
       "Zimbabwe                              39.092798\n",
       "Name: Hepatitis B, Length: 181, dtype: float64"
      ]
     },
     "execution_count": 87,
     "metadata": {},
     "output_type": "execute_result"
    }
   ],
   "source": [
    "df.groupby(\"Country\")[\"Hepatitis B\"].sum()/len(df[\"Hepatitis B\"])*100"
   ]
  },
  {
   "cell_type": "code",
   "execution_count": 88,
   "id": "2c744d1f",
   "metadata": {},
   "outputs": [],
   "source": [
    "#As you can see,\n",
    "#The Afghanistan has the overall percentage of Hepatitis B around 35.76\n",
    "#The Algeria has the overall percentage of Hepatitis B around 54.29\n",
    "#The Angola has the overall percentage of Hepatitis B around 41.50"
   ]
  }
 ],
 "metadata": {
  "kernelspec": {
   "display_name": "Python 3 (ipykernel)",
   "language": "python",
   "name": "python3"
  },
  "language_info": {
   "codemirror_mode": {
    "name": "ipython",
    "version": 3
   },
   "file_extension": ".py",
   "mimetype": "text/x-python",
   "name": "python",
   "nbconvert_exporter": "python",
   "pygments_lexer": "ipython3",
   "version": "3.9.12"
  }
 },
 "nbformat": 4,
 "nbformat_minor": 5
}
